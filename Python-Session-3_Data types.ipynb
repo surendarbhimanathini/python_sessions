{
 "cells": [
  {
   "cell_type": "markdown",
   "id": "dddc03b0",
   "metadata": {},
   "source": [
    "### Data types\n",
    "\n",
    "- integer               \n",
    "\n",
    "     int\n",
    "\n",
    "- float                 \n",
    "\n",
    "     float\n",
    "\n",
    "- strings               \n",
    "\n",
    "     str\n",
    "\n",
    "- boolean               \n",
    "\n",
    "    bool\n",
    " \n",
    "- complex conjugate     \n",
    "\n",
    "    complex"
   ]
  },
  {
   "cell_type": "markdown",
   "id": "c3549f24",
   "metadata": {},
   "source": [
    "$integer$"
   ]
  },
  {
   "cell_type": "code",
   "execution_count": 1,
   "id": "9ba302be",
   "metadata": {},
   "outputs": [
    {
     "data": {
      "text/plain": [
       "100"
      ]
     },
     "execution_count": 1,
     "metadata": {},
     "output_type": "execute_result"
    }
   ],
   "source": [
    "number=100\n",
    "number"
   ]
  },
  {
   "cell_type": "code",
   "execution_count": 2,
   "id": "b1b62eba",
   "metadata": {},
   "outputs": [
    {
     "data": {
      "text/plain": [
       "int"
      ]
     },
     "execution_count": 2,
     "metadata": {},
     "output_type": "execute_result"
    }
   ],
   "source": [
    "# type of the varible :  type\n",
    "type(number)"
   ]
  },
  {
   "cell_type": "markdown",
   "id": "1a554e6c",
   "metadata": {},
   "source": [
    "# In maths we have different number system\n",
    "\n",
    "- decimal\n",
    "\n",
    "- binary\n",
    "\n",
    "- octal\n",
    "\n",
    "- hexa"
   ]
  },
  {
   "cell_type": "markdown",
   "id": "0365ec8d",
   "metadata": {},
   "source": [
    "**Binary**\n",
    "\n",
    "- Bi mean 2\n",
    "\n",
    "- so the base is also 2\n",
    "\n",
    "- 0  1   2   3  4  5  6  7  8  9\n",
    "\n",
    "- here will use only two digits:  0 and 1\n",
    "    \n",
    "- representation is :  0b<combinations of 0 and 1>\n",
    "    \n",
    "- 0b110  , 0B011101\n"
   ]
  },
  {
   "cell_type": "code",
   "execution_count": 3,
   "id": "cd852217",
   "metadata": {},
   "outputs": [
    {
     "data": {
      "text/plain": [
       "7"
      ]
     },
     "execution_count": 3,
     "metadata": {},
     "output_type": "execute_result"
    }
   ],
   "source": [
    "0b111\n",
    "# python output will come as decimal format only"
   ]
  },
  {
   "cell_type": "code",
   "execution_count": 4,
   "id": "d820c76b",
   "metadata": {},
   "outputs": [
    {
     "data": {
      "text/plain": [
       "15"
      ]
     },
     "execution_count": 4,
     "metadata": {},
     "output_type": "execute_result"
    }
   ],
   "source": [
    "0b1111"
   ]
  },
  {
   "cell_type": "code",
   "execution_count": null,
   "id": "e11c78a5",
   "metadata": {},
   "outputs": [],
   "source": [
    "# 3 digits = 4   2   1\n",
    "# 4 digits = 8   4   2   1\n",
    "# 5 digits=  16  8   4   2   1\n",
    "**********************         \n",
    "4    2     1    decimal output\n",
    "**********************\n",
    "0    0     0      0\n",
    "0    0     1      1\n",
    "0    1     0      2\n",
    "0    1     1      3\n",
    "1    0     0      4\n",
    "1    0     1      5\n",
    "1    1     0      6\n",
    "1    1     1      7\n",
    "\n",
    "4= 4 times 0 and 4 times 1 will come    \n",
    "2= 2 times 0 and 2 time  1\n",
    "1= 1 time  0 and 1  time  1\n",
    "\n",
    "ON=1\n",
    "Off=0"
   ]
  },
  {
   "cell_type": "code",
   "execution_count": null,
   "id": "a443c89d",
   "metadata": {},
   "outputs": [],
   "source": [
    "    **********************         \n",
    " 8  4    2     1    decimal output\n",
    "    **********************\n",
    " 0   0    0     0      0\n",
    " 0   0    0     1      1\n",
    " 0   0    1     0      2\n",
    " 0   0    1     1      3\n",
    " 0   1    0     0      4\n",
    " 0   1    0     1      5\n",
    " 0   1    1     0      6\n",
    " 0   1    1     1      7\n",
    " 1   0    0     0      8     \n",
    " 1   0    0     1      9\n",
    " 1   0    1     0      10\n",
    " 1   0    1     1      11\n",
    " 1   1    0     0      12\n",
    " 1   1    0     1      13\n",
    " 1   1    1     0      14\n",
    " 1   1    1     1      15"
   ]
  },
  {
   "cell_type": "code",
   "execution_count": 5,
   "id": "96e6d0dd",
   "metadata": {},
   "outputs": [
    {
     "data": {
      "text/plain": [
       "14"
      ]
     },
     "execution_count": 5,
     "metadata": {},
     "output_type": "execute_result"
    }
   ],
   "source": [
    "0b1110"
   ]
  },
  {
   "cell_type": "code",
   "execution_count": 6,
   "id": "b616d7e4",
   "metadata": {},
   "outputs": [
    {
     "data": {
      "text/plain": [
       "9"
      ]
     },
     "execution_count": 6,
     "metadata": {},
     "output_type": "execute_result"
    }
   ],
   "source": [
    "0b1001"
   ]
  },
  {
   "cell_type": "markdown",
   "id": "bc5411af",
   "metadata": {},
   "source": [
    "**Octa**\n",
    "\n",
    "\n",
    "- octa mean 8\n",
    "\n",
    "- so the base is also 8\n",
    "\n",
    "- 0  1   2   3  4  5  6  7  8  9\n",
    "\n",
    "- here will use only 8 digits:  0,1,2,3,4,5,6,7 (0 to 7 means 8 digits)\n",
    "    \n",
    "- representation is :  0o<combinations of 0 to 7>\n",
    "    \n",
    "- 0o123  , 0O7564\n"
   ]
  },
  {
   "cell_type": "code",
   "execution_count": 7,
   "id": "d8d395ea",
   "metadata": {},
   "outputs": [
    {
     "data": {
      "text/plain": [
       "83"
      ]
     },
     "execution_count": 7,
     "metadata": {},
     "output_type": "execute_result"
    }
   ],
   "source": [
    "0o123"
   ]
  },
  {
   "cell_type": "code",
   "execution_count": 8,
   "id": "e90edd61",
   "metadata": {},
   "outputs": [
    {
     "data": {
      "text/plain": [
       "494"
      ]
     },
     "execution_count": 8,
     "metadata": {},
     "output_type": "execute_result"
    }
   ],
   "source": [
    "0O756"
   ]
  },
  {
   "cell_type": "code",
   "execution_count": 9,
   "id": "72f7c5f0",
   "metadata": {},
   "outputs": [
    {
     "data": {
      "text/plain": [
       "373"
      ]
     },
     "execution_count": 9,
     "metadata": {},
     "output_type": "execute_result"
    }
   ],
   "source": [
    "0o565"
   ]
  },
  {
   "cell_type": "markdown",
   "id": "698166d9",
   "metadata": {},
   "source": [
    "**hexa**\n",
    "\n",
    "\n",
    "- hexa mean 16\n",
    "\n",
    "- so the base is also 16\n",
    "\n",
    "- 0  1   2   3  4  5  6  7  8  9  , A  ,B, C, D, E, F\n",
    "\n",
    "- here will use only 16 digits:  (0 to 9 and A to F)\n",
    "    \n",
    "- representation is :  0x<0 to 9 and A to F>\n",
    "    \n",
    "- 0xabc  , 0X9DF"
   ]
  },
  {
   "cell_type": "code",
   "execution_count": 11,
   "id": "f27e6dbf",
   "metadata": {},
   "outputs": [
    {
     "data": {
      "text/plain": [
       "2748"
      ]
     },
     "execution_count": 11,
     "metadata": {},
     "output_type": "execute_result"
    }
   ],
   "source": [
    "0xabc"
   ]
  },
  {
   "cell_type": "markdown",
   "id": "c1a993a8",
   "metadata": {},
   "source": [
    "$float$"
   ]
  },
  {
   "cell_type": "code",
   "execution_count": 13,
   "id": "004b73b8",
   "metadata": {},
   "outputs": [
    {
     "data": {
      "text/plain": [
       "123.5"
      ]
     },
     "execution_count": 13,
     "metadata": {},
     "output_type": "execute_result"
    }
   ],
   "source": [
    "number1=123.5\n",
    "number1"
   ]
  },
  {
   "cell_type": "code",
   "execution_count": 14,
   "id": "b0ae29e1",
   "metadata": {},
   "outputs": [
    {
     "data": {
      "text/plain": [
       "float"
      ]
     },
     "execution_count": 14,
     "metadata": {},
     "output_type": "execute_result"
    }
   ],
   "source": [
    "type(number1)"
   ]
  },
  {
   "cell_type": "markdown",
   "id": "5eb8d796",
   "metadata": {},
   "source": [
    "$e$ $represntation$"
   ]
  },
  {
   "cell_type": "code",
   "execution_count": 15,
   "id": "6da0578f",
   "metadata": {},
   "outputs": [
    {
     "data": {
      "text/plain": [
       "10000.0"
      ]
     },
     "execution_count": 15,
     "metadata": {},
     "output_type": "execute_result"
    }
   ],
   "source": [
    "10e3   #  10 * 1000 = 10000"
   ]
  },
  {
   "cell_type": "code",
   "execution_count": 16,
   "id": "d6b3e65c",
   "metadata": {},
   "outputs": [
    {
     "data": {
      "text/plain": [
       "10000.0"
      ]
     },
     "execution_count": 16,
     "metadata": {},
     "output_type": "execute_result"
    }
   ],
   "source": [
    "10e+3  # 10e3  and 10e+3  both are same"
   ]
  },
  {
   "cell_type": "code",
   "execution_count": 17,
   "id": "d37520fc",
   "metadata": {},
   "outputs": [
    {
     "data": {
      "text/plain": [
       "100000.0"
      ]
     },
     "execution_count": 17,
     "metadata": {},
     "output_type": "execute_result"
    }
   ],
   "source": [
    "1e5   # 1* 100000"
   ]
  },
  {
   "cell_type": "code",
   "execution_count": 18,
   "id": "851815c9",
   "metadata": {},
   "outputs": [
    {
     "data": {
      "text/plain": [
       "0.01"
      ]
     },
     "execution_count": 18,
     "metadata": {},
     "output_type": "execute_result"
    }
   ],
   "source": [
    "10e-3   # 10/1000= 1/100=0.01"
   ]
  },
  {
   "cell_type": "code",
   "execution_count": null,
   "id": "39d87259",
   "metadata": {},
   "outputs": [],
   "source": [
    "# ML ===== output as zero\n",
    "# 0.00000000000000000000123\n",
    "# 123e-10= 123/100000000000= 0.0000000000123"
   ]
  },
  {
   "cell_type": "code",
   "execution_count": 20,
   "id": "555ca805",
   "metadata": {},
   "outputs": [
    {
     "data": {
      "text/plain": [
       "0.01"
      ]
     },
     "execution_count": 20,
     "metadata": {},
     "output_type": "execute_result"
    }
   ],
   "source": [
    "1000e-5  # 1000/100000"
   ]
  },
  {
   "cell_type": "code",
   "execution_count": 23,
   "id": "c5eaf636",
   "metadata": {},
   "outputs": [
    {
     "data": {
      "text/plain": [
       "1e-05"
      ]
     },
     "execution_count": 23,
     "metadata": {},
     "output_type": "execute_result"
    }
   ],
   "source": [
    "10e-6"
   ]
  },
  {
   "cell_type": "markdown",
   "id": "b9b4c689",
   "metadata": {},
   "source": [
    "$Strings$"
   ]
  },
  {
   "cell_type": "code",
   "execution_count": 24,
   "id": "040d5ff9",
   "metadata": {},
   "outputs": [
    {
     "data": {
      "text/plain": [
       "str"
      ]
     },
     "execution_count": 24,
     "metadata": {},
     "output_type": "execute_result"
    }
   ],
   "source": [
    "name=\"python\"  # write any thing in quotes\n",
    "type(name)"
   ]
  },
  {
   "cell_type": "code",
   "execution_count": 25,
   "id": "ccb02e4d",
   "metadata": {},
   "outputs": [
    {
     "data": {
      "text/plain": [
       "str"
      ]
     },
     "execution_count": 25,
     "metadata": {},
     "output_type": "execute_result"
    }
   ],
   "source": [
    "name1=\"100\"\n",
    "type(name1)"
   ]
  },
  {
   "cell_type": "code",
   "execution_count": 26,
   "id": "425baa54",
   "metadata": {},
   "outputs": [
    {
     "data": {
      "text/plain": [
       "'how are you'"
      ]
     },
     "execution_count": 26,
     "metadata": {},
     "output_type": "execute_result"
    }
   ],
   "source": [
    "name2='how are you'\n",
    "name2"
   ]
  },
  {
   "cell_type": "code",
   "execution_count": null,
   "id": "a8b42a3e",
   "metadata": {},
   "outputs": [],
   "source": [
    "hai\n",
    "\n",
    "how are you\n",
    "\n",
    "write above sentence in the one string \n",
    "when you call your output should line be lie\n",
    "/n   /t"
   ]
  },
  {
   "cell_type": "code",
   "execution_count": 27,
   "id": "b7bfc7c7",
   "metadata": {},
   "outputs": [
    {
     "ename": "SyntaxError",
     "evalue": "unterminated string literal (detected at line 1) (373100525.py, line 1)",
     "output_type": "error",
     "traceback": [
      "\u001b[1;36m  Cell \u001b[1;32mIn[27], line 1\u001b[1;36m\u001b[0m\n\u001b[1;33m    name3=\"hai\u001b[0m\n\u001b[1;37m          ^\u001b[0m\n\u001b[1;31mSyntaxError\u001b[0m\u001b[1;31m:\u001b[0m unterminated string literal (detected at line 1)\n"
     ]
    }
   ],
   "source": [
    "name3=\"hai\n",
    "       how are you\"\n",
    "    \n",
    "name3"
   ]
  },
  {
   "cell_type": "code",
   "execution_count": 28,
   "id": "a7551bd2",
   "metadata": {},
   "outputs": [
    {
     "ename": "SyntaxError",
     "evalue": "unterminated string literal (detected at line 1) (2079976953.py, line 1)",
     "output_type": "error",
     "traceback": [
      "\u001b[1;36m  Cell \u001b[1;32mIn[28], line 1\u001b[1;36m\u001b[0m\n\u001b[1;33m    name4='hai\u001b[0m\n\u001b[1;37m          ^\u001b[0m\n\u001b[1;31mSyntaxError\u001b[0m\u001b[1;31m:\u001b[0m unterminated string literal (detected at line 1)\n"
     ]
    }
   ],
   "source": [
    "name4='hai\n",
    "       how are you'\n",
    "    \n",
    "name4"
   ]
  },
  {
   "cell_type": "code",
   "execution_count": 29,
   "id": "514b091f",
   "metadata": {},
   "outputs": [
    {
     "data": {
      "text/plain": [
       "'hai\\n         how are you'"
      ]
     },
     "execution_count": 29,
     "metadata": {},
     "output_type": "execute_result"
    }
   ],
   "source": [
    "# whenever you want write multi lines  use triple quotes\n",
    "\n",
    "name5=\"\"\"hai\n",
    "         how are you\"\"\"\n",
    "name5\n",
    "\n",
    "# doc string"
   ]
  },
  {
   "cell_type": "code",
   "execution_count": null,
   "id": "358e765b",
   "metadata": {},
   "outputs": [],
   "source": [
    "# doc string is very important\n",
    "# jupyter notebook : markdown option\n",
    "# vs code pycharm :  doc string"
   ]
  },
  {
   "cell_type": "code",
   "execution_count": 30,
   "id": "4b22165a",
   "metadata": {},
   "outputs": [],
   "source": [
    "import random\n",
    "random.randint()"
   ]
  },
  {
   "cell_type": "markdown",
   "id": "32e43f9e",
   "metadata": {},
   "source": [
    "my name is python"
   ]
  },
  {
   "cell_type": "code",
   "execution_count": null,
   "id": "0109a668",
   "metadata": {},
   "outputs": [],
   "source": [
    "\"\"\"my name is python\"\"\""
   ]
  },
  {
   "cell_type": "code",
   "execution_count": 31,
   "id": "29791c9d",
   "metadata": {},
   "outputs": [
    {
     "data": {
      "text/plain": [
       "50"
      ]
     },
     "execution_count": 31,
     "metadata": {},
     "output_type": "execute_result"
    }
   ],
   "source": [
    "\"\"\"\n",
    "i have taken 20 in a\n",
    "i have taken 30 in b\n",
    "im cal\n",
    "\"\"\"\n",
    "a=20 #\n",
    "b=30\n",
    "a+b"
   ]
  },
  {
   "cell_type": "code",
   "execution_count": null,
   "id": "2db3439a",
   "metadata": {},
   "outputs": [],
   "source": [
    "import random\n",
    "random.randint()"
   ]
  },
  {
   "cell_type": "code",
   "execution_count": null,
   "id": "66d03f23",
   "metadata": {},
   "outputs": [],
   "source": [
    "# Integer\n",
    "    # Binary\n",
    "    # Ocatl\n",
    "    # hexa\n",
    "    \n",
    "# Float\n",
    "# String\n",
    "   # single quotes\n",
    "   # double quotes\n",
    "   # triple quotes"
   ]
  },
  {
   "cell_type": "code",
   "execution_count": 1,
   "id": "ebf3bf9a",
   "metadata": {},
   "outputs": [
    {
     "data": {
      "text/plain": [
       "'python'"
      ]
     },
     "execution_count": 1,
     "metadata": {},
     "output_type": "execute_result"
    }
   ],
   "source": [
    "string1='python'\n",
    "string1"
   ]
  },
  {
   "cell_type": "code",
   "execution_count": 2,
   "id": "f346fcb4",
   "metadata": {},
   "outputs": [
    {
     "data": {
      "text/plain": [
       "'good morning'"
      ]
     },
     "execution_count": 2,
     "metadata": {},
     "output_type": "execute_result"
    }
   ],
   "source": [
    "string2=\"good morning\"\n",
    "string2"
   ]
  },
  {
   "cell_type": "code",
   "execution_count": null,
   "id": "2c920728",
   "metadata": {},
   "outputs": [],
   "source": [
    "# triple quotes ====== doc string\n",
    "# you are writing some information\n",
    "string3=\"\"\"how are you\"\"\""
   ]
  },
  {
   "cell_type": "markdown",
   "id": "0ba58650",
   "metadata": {},
   "source": [
    "**Boolean**"
   ]
  },
  {
   "cell_type": "code",
   "execution_count": null,
   "id": "2028df65",
   "metadata": {},
   "outputs": [],
   "source": [
    "# whenever if you ask any question to the computer\n",
    "# what its repaly? True or False\n",
    "# True=1\n",
    "# False=0\n",
    "\n",
    "True  # keyword\n",
    "False # keyword"
   ]
  },
  {
   "cell_type": "code",
   "execution_count": 3,
   "id": "36aa6338",
   "metadata": {},
   "outputs": [
    {
     "data": {
      "text/plain": [
       "False"
      ]
     },
     "execution_count": 3,
     "metadata": {},
     "output_type": "execute_result"
    }
   ],
   "source": [
    "value= False # we are assigning False in a variable value\n",
    "value"
   ]
  },
  {
   "cell_type": "code",
   "execution_count": 4,
   "id": "f1120165",
   "metadata": {},
   "outputs": [
    {
     "data": {
      "text/plain": [
       "bool"
      ]
     },
     "execution_count": 4,
     "metadata": {},
     "output_type": "execute_result"
    }
   ],
   "source": [
    "type(value)"
   ]
  },
  {
   "cell_type": "code",
   "execution_count": 5,
   "id": "0801db28",
   "metadata": {},
   "outputs": [
    {
     "data": {
      "text/plain": [
       "bool"
      ]
     },
     "execution_count": 5,
     "metadata": {},
     "output_type": "execute_result"
    }
   ],
   "source": [
    "valu1=True\n",
    "type(valu1)"
   ]
  },
  {
   "cell_type": "code",
   "execution_count": null,
   "id": "5064b377",
   "metadata": {},
   "outputs": [],
   "source": [
    "name1=True  # boolean\n",
    "name2=true  # both are variables\n",
    "name3=\"True\" # string\n"
   ]
  },
  {
   "cell_type": "code",
   "execution_count": 6,
   "id": "1a8d4887",
   "metadata": {},
   "outputs": [
    {
     "ename": "NameError",
     "evalue": "name 'true' is not defined",
     "output_type": "error",
     "traceback": [
      "\u001b[1;31m---------------------------------------------------------------------------\u001b[0m",
      "\u001b[1;31mNameError\u001b[0m                                 Traceback (most recent call last)",
      "Cell \u001b[1;32mIn[6], line 1\u001b[0m\n\u001b[1;32m----> 1\u001b[0m name2\u001b[38;5;241m=\u001b[39mtrue\n",
      "\u001b[1;31mNameError\u001b[0m: name 'true' is not defined"
     ]
    }
   ],
   "source": [
    "name2=true\n",
    "\n",
    "# Have you defined True before?\n",
    "# i did not defiend True, thats whay Im not able to use that"
   ]
  },
  {
   "cell_type": "code",
   "execution_count": 7,
   "id": "02eacb3b",
   "metadata": {},
   "outputs": [
    {
     "data": {
      "text/plain": [
       "100"
      ]
     },
     "execution_count": 7,
     "metadata": {},
     "output_type": "execute_result"
    }
   ],
   "source": [
    "true=100    # 100 is saving in a variabel true\n",
    "name2=true  # true is saving in a variable name2\n",
    "name2       # so name2 =100"
   ]
  },
  {
   "cell_type": "code",
   "execution_count": 8,
   "id": "79bdc49c",
   "metadata": {},
   "outputs": [
    {
     "data": {
      "text/plain": [
       "500"
      ]
     },
     "execution_count": 8,
     "metadata": {},
     "output_type": "execute_result"
    }
   ],
   "source": [
    "a=100   # 100 saved in a\n",
    "b=200   # 200 saved in b\n",
    "a=b     # b is saved in a=200  100=200\n",
    "b=a     # a is saved in b=200\n",
    "a=500   # 500 saved in a=500\n",
    "b=a     # a is saved in b=500\n",
    "b=900   # 900 is saved in b=900\n",
    "a       # latest value =500\n",
    "\n",
    "\n",
    "100 ---- > 200 ---- > 500\n",
    "200 ----- > 200 ---- > 500 ---- >900"
   ]
  },
  {
   "cell_type": "code",
   "execution_count": 9,
   "id": "4d1ddad7",
   "metadata": {},
   "outputs": [
    {
     "data": {
      "text/plain": [
       "900"
      ]
     },
     "execution_count": 9,
     "metadata": {},
     "output_type": "execute_result"
    }
   ],
   "source": [
    "b"
   ]
  },
  {
   "cell_type": "code",
   "execution_count": null,
   "id": "e69f9a55",
   "metadata": {},
   "outputs": [],
   "source": [
    "left=right\n",
    "100=200"
   ]
  },
  {
   "cell_type": "code",
   "execution_count": 10,
   "id": "117e33f0",
   "metadata": {},
   "outputs": [
    {
     "ename": "SyntaxError",
     "evalue": "cannot assign to literal here. Maybe you meant '==' instead of '='? (798727903.py, line 1)",
     "output_type": "error",
     "traceback": [
      "\u001b[1;36m  Cell \u001b[1;32mIn[10], line 1\u001b[1;36m\u001b[0m\n\u001b[1;33m    100=200\u001b[0m\n\u001b[1;37m    ^\u001b[0m\n\u001b[1;31mSyntaxError\u001b[0m\u001b[1;31m:\u001b[0m cannot assign to literal here. Maybe you meant '==' instead of '='?\n"
     ]
    }
   ],
   "source": [
    "100=200"
   ]
  },
  {
   "cell_type": "markdown",
   "id": "0af46d47",
   "metadata": {},
   "source": [
    "**Complex-Conjugate**"
   ]
  },
  {
   "cell_type": "markdown",
   "id": "2e2b8b0a",
   "metadata": {},
   "source": [
    "-  a+jb   or  a+ib\n",
    "\n",
    "- where a= real number\n",
    "\n",
    "- b= imaginary number\n",
    "\n",
    "- i= sqrt(-1)"
   ]
  },
  {
   "cell_type": "code",
   "execution_count": 11,
   "id": "594f82f5",
   "metadata": {},
   "outputs": [
    {
     "data": {
      "text/plain": [
       "(3+5j)"
      ]
     },
     "execution_count": 11,
     "metadata": {},
     "output_type": "execute_result"
    }
   ],
   "source": [
    "number= 3+5j\n",
    "number"
   ]
  },
  {
   "cell_type": "code",
   "execution_count": 12,
   "id": "3a334038",
   "metadata": {},
   "outputs": [
    {
     "data": {
      "text/plain": [
       "complex"
      ]
     },
     "execution_count": 12,
     "metadata": {},
     "output_type": "execute_result"
    }
   ],
   "source": [
    "type(number)"
   ]
  },
  {
   "cell_type": "code",
   "execution_count": 13,
   "id": "ea2a9a4b",
   "metadata": {},
   "outputs": [
    {
     "data": {
      "text/plain": [
       "(3-5j)"
      ]
     },
     "execution_count": 13,
     "metadata": {},
     "output_type": "execute_result"
    }
   ],
   "source": [
    "number1= 3-5j\n",
    "number1"
   ]
  },
  {
   "cell_type": "code",
   "execution_count": null,
   "id": "1c7f6856",
   "metadata": {},
   "outputs": [],
   "source": [
    "# If i want to retrive only real value seperately\n",
    "3+5j\n",
    "# 3 is the real value\n",
    "# 5 is the imaginry value"
   ]
  },
  {
   "cell_type": "code",
   "execution_count": 14,
   "id": "7fcf454b",
   "metadata": {},
   "outputs": [
    {
     "data": {
      "text/plain": [
       "(3+5j)"
      ]
     },
     "execution_count": 14,
     "metadata": {},
     "output_type": "execute_result"
    }
   ],
   "source": [
    "number=3+5j\n",
    "number"
   ]
  },
  {
   "cell_type": "code",
   "execution_count": 15,
   "id": "b8377bac",
   "metadata": {},
   "outputs": [
    {
     "data": {
      "text/plain": [
       "['__abs__',\n",
       " '__add__',\n",
       " '__bool__',\n",
       " '__class__',\n",
       " '__complex__',\n",
       " '__delattr__',\n",
       " '__dir__',\n",
       " '__doc__',\n",
       " '__eq__',\n",
       " '__format__',\n",
       " '__ge__',\n",
       " '__getattribute__',\n",
       " '__getnewargs__',\n",
       " '__getstate__',\n",
       " '__gt__',\n",
       " '__hash__',\n",
       " '__init__',\n",
       " '__init_subclass__',\n",
       " '__le__',\n",
       " '__lt__',\n",
       " '__mul__',\n",
       " '__ne__',\n",
       " '__neg__',\n",
       " '__new__',\n",
       " '__pos__',\n",
       " '__pow__',\n",
       " '__radd__',\n",
       " '__reduce__',\n",
       " '__reduce_ex__',\n",
       " '__repr__',\n",
       " '__rmul__',\n",
       " '__rpow__',\n",
       " '__rsub__',\n",
       " '__rtruediv__',\n",
       " '__setattr__',\n",
       " '__sizeof__',\n",
       " '__str__',\n",
       " '__sub__',\n",
       " '__subclasshook__',\n",
       " '__truediv__',\n",
       " 'conjugate',\n",
       " 'imag',\n",
       " 'real']"
      ]
     },
     "execution_count": 15,
     "metadata": {},
     "output_type": "execute_result"
    }
   ],
   "source": [
    "dir(number)"
   ]
  },
  {
   "cell_type": "code",
   "execution_count": 16,
   "id": "ddb08344",
   "metadata": {},
   "outputs": [
    {
     "data": {
      "text/plain": [
       "3.0"
      ]
     },
     "execution_count": 16,
     "metadata": {},
     "output_type": "execute_result"
    }
   ],
   "source": [
    "number.real   # <pname>.<method>"
   ]
  },
  {
   "cell_type": "code",
   "execution_count": 17,
   "id": "2ce79c0f",
   "metadata": {},
   "outputs": [
    {
     "data": {
      "text/plain": [
       "5.0"
      ]
     },
     "execution_count": 17,
     "metadata": {},
     "output_type": "execute_result"
    }
   ],
   "source": [
    "number.imag\n"
   ]
  },
  {
   "cell_type": "code",
   "execution_count": 19,
   "id": "b3a42d63",
   "metadata": {},
   "outputs": [
    {
     "data": {
      "text/plain": [
       "(3-5j)"
      ]
     },
     "execution_count": 19,
     "metadata": {},
     "output_type": "execute_result"
    }
   ],
   "source": [
    "number.conjugate()\n",
    "\n",
    "# +  become  -\n",
    "# -  become  +"
   ]
  },
  {
   "cell_type": "code",
   "execution_count": 22,
   "id": "87380d6e",
   "metadata": {},
   "outputs": [
    {
     "data": {
      "text/plain": [
       "<function complex.conjugate()>"
      ]
     },
     "execution_count": 22,
     "metadata": {},
     "output_type": "execute_result"
    }
   ],
   "source": [
    "number.conjugate()"
   ]
  },
  {
   "cell_type": "code",
   "execution_count": null,
   "id": "080432d5",
   "metadata": {},
   "outputs": [],
   "source": [
    "number1=3-5j\n",
    "# number1.real = 3\n",
    "# number1.imag = -5\n",
    "# number1.conjgate= 3+5j"
   ]
  },
  {
   "cell_type": "code",
   "execution_count": null,
   "id": "a4f63f30",
   "metadata": {},
   "outputs": [],
   "source": [
    "3-5j  ====== > 3   , "
   ]
  },
  {
   "cell_type": "code",
   "execution_count": 20,
   "id": "6f52ba58",
   "metadata": {},
   "outputs": [
    {
     "data": {
      "text/plain": [
       "(4+10j)"
      ]
     },
     "execution_count": 20,
     "metadata": {},
     "output_type": "execute_result"
    }
   ],
   "source": [
    "complex(4,10)\n",
    "# real=4\n",
    "# image=10 \n",
    "# 4+10j"
   ]
  },
  {
   "cell_type": "code",
   "execution_count": 21,
   "id": "60a35213",
   "metadata": {},
   "outputs": [
    {
     "data": {
      "text/plain": [
       "(4-10j)"
      ]
     },
     "execution_count": 21,
     "metadata": {},
     "output_type": "execute_result"
    }
   ],
   "source": [
    "complex(4,-10)\n",
    "# Inside bracket what you are seeing\n",
    "# parameters/arguments"
   ]
  },
  {
   "cell_type": "code",
   "execution_count": null,
   "id": "cbb846a8",
   "metadata": {},
   "outputs": [],
   "source": [
    "complex()  # if i did not provide anything inside"
   ]
  },
  {
   "cell_type": "markdown",
   "id": "e5eda8c2",
   "metadata": {},
   "source": [
    "- whenever if you see any barckets (), that is called function\n",
    "\n",
    "- another name of function is called method\n",
    "\n",
    "- inside brackets what you are seeing is called parameters\n",
    "\n",
    "- another name for parameters is arguments"
   ]
  },
  {
   "cell_type": "code",
   "execution_count": 32,
   "id": "cb90c3b9",
   "metadata": {},
   "outputs": [
    {
     "data": {
      "text/plain": [
       "88"
      ]
     },
     "execution_count": 32,
     "metadata": {},
     "output_type": "execute_result"
    }
   ],
   "source": [
    "import random\n",
    "random.randint(1,100)"
   ]
  },
  {
   "cell_type": "code",
   "execution_count": 28,
   "id": "c4a636dc",
   "metadata": {},
   "outputs": [
    {
     "ename": "TypeError",
     "evalue": "math.sin() takes exactly one argument (0 given)",
     "output_type": "error",
     "traceback": [
      "\u001b[1;31m---------------------------------------------------------------------------\u001b[0m",
      "\u001b[1;31mTypeError\u001b[0m                                 Traceback (most recent call last)",
      "Cell \u001b[1;32mIn[28], line 2\u001b[0m\n\u001b[0;32m      1\u001b[0m \u001b[38;5;28;01mimport\u001b[39;00m \u001b[38;5;21;01mmath\u001b[39;00m\n\u001b[1;32m----> 2\u001b[0m math\u001b[38;5;241m.\u001b[39msin()\n",
      "\u001b[1;31mTypeError\u001b[0m: math.sin() takes exactly one argument (0 given)"
     ]
    }
   ],
   "source": [
    "import math\n",
    "math.sin()"
   ]
  },
  {
   "cell_type": "code",
   "execution_count": 33,
   "id": "186df837",
   "metadata": {},
   "outputs": [
    {
     "data": {
      "text/plain": [
       "0j"
      ]
     },
     "execution_count": 33,
     "metadata": {},
     "output_type": "execute_result"
    }
   ],
   "source": [
    "complex()\n",
    "\n",
    "# deafault arguments\n",
    "\n",
    "# if you not provide anything inside bracket\n",
    "# I will use real value as 0\n",
    "# imaginary value also 0\n",
    "# 0+0j  =====> 0j only"
   ]
  },
  {
   "cell_type": "code",
   "execution_count": null,
   "id": "7920bcf3",
   "metadata": {},
   "outputs": [],
   "source": [
    "A) 0+0j\n",
    "B) 0j\n",
    "C) 0-0j\n",
    "D) 0\n",
    "E) error"
   ]
  },
  {
   "cell_type": "code",
   "execution_count": null,
   "id": "b9a92fee",
   "metadata": {},
   "outputs": [],
   "source": [
    "A) random.randint() # error  is it necessary to provide arguments\n",
    "B) math.sin()       # error  is it necesaary to provide arguments\n",
    "C) complex()        # no error"
   ]
  },
  {
   "cell_type": "code",
   "execution_count": null,
   "id": "64c980ec",
   "metadata": {},
   "outputs": [],
   "source": [
    "random.randint(a, b)\n",
    "math.sin(x, /)\n",
    "complex(real=0, imag=0)"
   ]
  },
  {
   "cell_type": "code",
   "execution_count": 34,
   "id": "7af3bd6d",
   "metadata": {},
   "outputs": [
    {
     "ename": "TypeError",
     "evalue": "Random.randint() missing 2 required positional arguments: 'a' and 'b'",
     "output_type": "error",
     "traceback": [
      "\u001b[1;31m---------------------------------------------------------------------------\u001b[0m",
      "\u001b[1;31mTypeError\u001b[0m                                 Traceback (most recent call last)",
      "Cell \u001b[1;32mIn[34], line 1\u001b[0m\n\u001b[1;32m----> 1\u001b[0m random\u001b[38;5;241m.\u001b[39mrandint()\n",
      "\u001b[1;31mTypeError\u001b[0m: Random.randint() missing 2 required positional arguments: 'a' and 'b'"
     ]
    }
   ],
   "source": [
    "random.randint()"
   ]
  },
  {
   "cell_type": "code",
   "execution_count": 35,
   "id": "166a5200",
   "metadata": {},
   "outputs": [
    {
     "ename": "TypeError",
     "evalue": "math.sin() takes exactly one argument (0 given)",
     "output_type": "error",
     "traceback": [
      "\u001b[1;31m---------------------------------------------------------------------------\u001b[0m",
      "\u001b[1;31mTypeError\u001b[0m                                 Traceback (most recent call last)",
      "Cell \u001b[1;32mIn[35], line 1\u001b[0m\n\u001b[1;32m----> 1\u001b[0m math\u001b[38;5;241m.\u001b[39msin()\n",
      "\u001b[1;31mTypeError\u001b[0m: math.sin() takes exactly one argument (0 given)"
     ]
    }
   ],
   "source": [
    "math.sin()"
   ]
  },
  {
   "cell_type": "code",
   "execution_count": 36,
   "id": "dec6db55",
   "metadata": {},
   "outputs": [
    {
     "data": {
      "text/plain": [
       "0j"
      ]
     },
     "execution_count": 36,
     "metadata": {},
     "output_type": "execute_result"
    }
   ],
   "source": [
    "complex()"
   ]
  },
  {
   "cell_type": "code",
   "execution_count": null,
   "id": "66152eed",
   "metadata": {},
   "outputs": [],
   "source": [
    "# packages\n",
    "# methods\n",
    "# parameters"
   ]
  },
  {
   "cell_type": "code",
   "execution_count": null,
   "id": "e414197f",
   "metadata": {},
   "outputs": [],
   "source": [
    "- int\n",
    "\n",
    "- float\n",
    "\n",
    "- str\n",
    "\n",
    "- bool\n",
    "\n",
    "- complex"
   ]
  }
 ],
 "metadata": {
  "kernelspec": {
   "display_name": "Python 3 (ipykernel)",
   "language": "python",
   "name": "python3"
  },
  "language_info": {
   "codemirror_mode": {
    "name": "ipython",
    "version": 3
   },
   "file_extension": ".py",
   "mimetype": "text/x-python",
   "name": "python",
   "nbconvert_exporter": "python",
   "pygments_lexer": "ipython3",
   "version": "3.11.5"
  }
 },
 "nbformat": 4,
 "nbformat_minor": 5
}
