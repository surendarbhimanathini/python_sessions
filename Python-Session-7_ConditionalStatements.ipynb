{
 "cells": [
  {
   "cell_type": "code",
   "execution_count": null,
   "id": "faefb662",
   "metadata": {},
   "outputs": [],
   "source": [
    "try-except \n",
    "\n",
    "- the code will run in try\n",
    "\n",
    "- error handling exception"
   ]
  },
  {
   "cell_type": "markdown",
   "id": "fc368806",
   "metadata": {},
   "source": [
    "**Conditional Statements**"
   ]
  },
  {
   "cell_type": "code",
   "execution_count": null,
   "id": "96ee053b",
   "metadata": {},
   "outputs": [],
   "source": [
    "if - else\n",
    "\n",
    "if pak won the match they have more chance to go to SF\n",
    "else they have more chance to go home\n",
    "\n",
    "if I study will pass\n",
    "else will fail"
   ]
  },
  {
   "cell_type": "code",
   "execution_count": null,
   "id": "cdeccf80",
   "metadata": {},
   "outputs": [],
   "source": [
    "name='python'\n",
    "# i want to make some condition\n",
    "# whenever the name ==python ====> success\n",
    "#          otherwise ========== > Fail"
   ]
  },
  {
   "cell_type": "code",
   "execution_count": null,
   "id": "81a4957e",
   "metadata": {},
   "outputs": [],
   "source": [
    "name='python'\n",
    "if <condition>:\n",
    "    # sta-1\n",
    "    # code\n",
    "    \n",
    "else:\n",
    "    # code"
   ]
  },
  {
   "cell_type": "code",
   "execution_count": null,
   "id": "d9568dd2",
   "metadata": {},
   "outputs": [],
   "source": [
    "name='python'   # name\n",
    "if name=='python': # is the name really equal to python\n",
    "    print('won')"
   ]
  },
  {
   "cell_type": "code",
   "execution_count": null,
   "id": "5fc4b539",
   "metadata": {},
   "outputs": [],
   "source": [
    "a=10  # value 10 stored in a varaible'a'\n",
    "a==10 # the value of a really equal to 10"
   ]
  },
  {
   "cell_type": "markdown",
   "id": "b8ffb8ad",
   "metadata": {},
   "source": [
    "=  assign\n",
    "\n",
    "== condition"
   ]
  },
  {
   "cell_type": "code",
   "execution_count": 2,
   "id": "4633c5ee",
   "metadata": {},
   "outputs": [
    {
     "data": {
      "text/plain": [
       "False"
      ]
     },
     "execution_count": 2,
     "metadata": {},
     "output_type": "execute_result"
    }
   ],
   "source": [
    "name='python'   # assign\n",
    "name=='py'  # condition"
   ]
  },
  {
   "cell_type": "code",
   "execution_count": null,
   "id": "65f7ab16",
   "metadata": {},
   "outputs": [],
   "source": [
    "if <condition>:\n",
    "    \n",
    "if  True/False:\n",
    "    inside the block\n",
    "    \n",
    "    \n",
    "    \n",
    "    "
   ]
  },
  {
   "cell_type": "code",
   "execution_count": 3,
   "id": "6a89c034",
   "metadata": {},
   "outputs": [
    {
     "name": "stdout",
     "output_type": "stream",
     "text": [
      "won\n"
     ]
    }
   ],
   "source": [
    "# True case\n",
    "name='python'   # 'python' is saved in a variable 'name'\n",
    "if name=='python': # is the name really equal to python if True/False:\n",
    "    print('won')"
   ]
  },
  {
   "cell_type": "code",
   "execution_count": null,
   "id": "568c180b",
   "metadata": {},
   "outputs": [],
   "source": [
    "# Error capture ====> my code should not stop\n",
    "# try: 100 lines   50 line you got error\n",
    "# first 49 exec======= 50===> exception"
   ]
  },
  {
   "cell_type": "code",
   "execution_count": 6,
   "id": "2d621ddb",
   "metadata": {},
   "outputs": [],
   "source": [
    "# False case\n",
    "name='python'  \n",
    "if name=='py':    #if <False>: no permission\n",
    "    a=10\n",
    "    b=20\n",
    "    print(a+b)\n",
    "    "
   ]
  },
  {
   "cell_type": "code",
   "execution_count": 5,
   "id": "6dc90271",
   "metadata": {},
   "outputs": [
    {
     "name": "stdout",
     "output_type": "stream",
     "text": [
      "30\n"
     ]
    }
   ],
   "source": [
    "a=10\n",
    "b=20\n",
    "print(a+b)"
   ]
  },
  {
   "cell_type": "code",
   "execution_count": 8,
   "id": "7bcf79d0",
   "metadata": {},
   "outputs": [
    {
     "name": "stdout",
     "output_type": "stream",
     "text": [
      "lost\n"
     ]
    }
   ],
   "source": [
    "name='python'\n",
    "if name=='py':   # False: np\n",
    "    print('won')\n",
    "    \n",
    "else:\n",
    "    print('lost')"
   ]
  },
  {
   "cell_type": "code",
   "execution_count": 10,
   "id": "84246a6c",
   "metadata": {},
   "outputs": [
    {
     "name": "stdout",
     "output_type": "stream",
     "text": [
      "hello\n",
      "10\n",
      "enter a number1:50\n",
      "enter a number2:50\n",
      "This is True case\n",
      "We are doing addition operation\n",
      "The addition of 50 and 50 is: 100\n",
      "Happy ending!\n",
      "subtraction: 0\n",
      "great!\n"
     ]
    }
   ],
   "source": [
    "print('hello')\n",
    "print(10)\n",
    "num1=eval(input(\"enter a number1:\"))\n",
    "num2=eval(input(\"enter a number2:\"))\n",
    "if num1==num2:\n",
    "    print(\"This is True case\")\n",
    "    print(\"We are doing addition operation\")\n",
    "    print(\"The addition of {} and {} is: {}\".format(num1,num2,num1+num2))\n",
    "    print(\"Happy ending!\")\n",
    "    \n",
    "else:\n",
    "    print(\"This is False case\")\n",
    "    print(\"We are doing multiplication\")\n",
    "    print(\"The multiplication of {} and {} is: {}\".format(num1,num2,num1*num2))\n",
    "    \n",
    "subtraction=num1-num2\n",
    "print('subtraction:',subtraction)\n",
    "print(\"great!\")\n",
    "\n",
    "# hello\n",
    "# 10\n",
    "# num1=enter the number: 50\n",
    "# num2= enter the number=60\n",
    "# if 50==60  False np to enter inside the if block\n",
    "# else block\n",
    "#      this false\n",
    "#      we are doing mul\n",
    "#      the multi 50 60 is 3000\n",
    "#subtraction:-10\n",
    "#great"
   ]
  },
  {
   "cell_type": "code",
   "execution_count": 15,
   "id": "9a084d64",
   "metadata": {},
   "outputs": [
    {
     "data": {
      "text/plain": [
       "False"
      ]
     },
     "execution_count": 15,
     "metadata": {},
     "output_type": "execute_result"
    }
   ],
   "source": [
    "# wap ask the user enter a number\n",
    "# find the number is even or odd number\n",
    "# eve number: if you divide with 2 the reminder is zero\n",
    "# odd number\n",
    "# in python modulus opertor gives remainder\n",
    "13%2==0"
   ]
  },
  {
   "cell_type": "code",
   "execution_count": 16,
   "id": "60873068",
   "metadata": {},
   "outputs": [
    {
     "name": "stdout",
     "output_type": "stream",
     "text": [
      "Enter the number:55\n",
      "The 55 is odd number\n"
     ]
    }
   ],
   "source": [
    "num1=eval(input(\"Enter the number:\")) # 55\n",
    "if(num1%2==0):  # 55%2==0 False : No p\n",
    "    print(\"The {} is even number\".format(num1))\n",
    "else:          # else block\n",
    "    print(\"The {} is odd number\".format(num1))"
   ]
  },
  {
   "cell_type": "code",
   "execution_count": 18,
   "id": "a82712e3",
   "metadata": {},
   "outputs": [
    {
     "name": "stdout",
     "output_type": "stream",
     "text": [
      "Enter the number:python\n",
      "name 'python' is not defined\n"
     ]
    }
   ],
   "source": [
    "try:\n",
    "    num1=eval(input(\"Enter the number:\")) \n",
    "    if(num1%2==0):  \n",
    "        print(\"The {} is even number\".format(num1))\n",
    "    else:          \n",
    "        print(\"The {} is odd number\".format(num1))\n",
    "        \n",
    "except Exception as e:\n",
    "    print(e)"
   ]
  },
  {
   "cell_type": "code",
   "execution_count": 20,
   "id": "8afbeee8",
   "metadata": {},
   "outputs": [
    {
     "name": "stdout",
     "output_type": "stream",
     "text": [
      "Enter the number:200\n",
      "The 200 is even number\n"
     ]
    }
   ],
   "source": [
    "num1=eval(input(\"Enter the number:\")) \n",
    "if(num1%2!=0):  \n",
    "    print(\"The {} is odd number\".format(num1))\n",
    "else:          \n",
    "    print(\"The {} is even number\".format(num1))"
   ]
  },
  {
   "cell_type": "code",
   "execution_count": 24,
   "id": "29c20db6",
   "metadata": {},
   "outputs": [
    {
     "name": "stdout",
     "output_type": "stream",
     "text": [
      "The 20 is even number\n"
     ]
    }
   ],
   "source": [
    "#WAP get a random number between 1 to 50\n",
    "# and check it is an even number or odd number\n",
    "import random\n",
    "num1=random.randint(1,50)\n",
    "\n",
    "if(num1%2!=0):  \n",
    "    print(\"The {} is odd number\".format(num1))\n",
    "else:          \n",
    "    print(\"The {} is even number\".format(num1))"
   ]
  },
  {
   "cell_type": "code",
   "execution_count": null,
   "id": "d6ab1d68",
   "metadata": {},
   "outputs": [],
   "source": [
    "try:\n",
    "    num1=random.randint(1,50)\n",
    "\n",
    "    if(num1%2!=0):  \n",
    "        print(\"The {} is odd number\".format(num1))\n",
    "    else:          \n",
    "        print(\"The {} is even number\".format(num1))  \n",
    "        \n",
    "except Exception as e:\n",
    "    print(e)"
   ]
  },
  {
   "cell_type": "code",
   "execution_count": null,
   "id": "4685bb37",
   "metadata": {},
   "outputs": [],
   "source": [
    "# WAP get a random number between 1 to 200\n",
    "# print you won, if number between 10 to 99: num>=10 and num<99\n",
    "# otherwise print you lost"
   ]
  },
  {
   "cell_type": "code",
   "execution_count": 26,
   "id": "4fee38b6",
   "metadata": {},
   "outputs": [
    {
     "name": "stdout",
     "output_type": "stream",
     "text": [
      "You won because 56 is between 10 and 99.\n"
     ]
    }
   ],
   "source": [
    "import random\n",
    "try:\n",
    "    num=random.randint(1,200)\n",
    "    if (num>=10 and num<=99):\n",
    "        print(\"You won because {} is between 10 and 99.\".format(num))\n",
    "    else:\n",
    "        print(\"you lost because {} is not between 10 and 99.\".format(num))\n",
    "\n",
    "except Exception as err:\n",
    "    print(err)"
   ]
  },
  {
   "cell_type": "code",
   "execution_count": 27,
   "id": "d2952817",
   "metadata": {},
   "outputs": [
    {
     "name": "stdout",
     "output_type": "stream",
     "text": [
      "You won because 85 is between 10 and 99.\n"
     ]
    }
   ],
   "source": [
    "import random\n",
    "try:\n",
    "    num=random.randint(1,200)\n",
    "    if (10<num<99):\n",
    "        print(\"You won because {} is between 10 and 99.\".format(num))\n",
    "    else:\n",
    "        print(\"you lost because {} is not between 10 and 99.\".format(num))\n",
    "\n",
    "except Exception as err:\n",
    "    print(err)"
   ]
  },
  {
   "cell_type": "code",
   "execution_count": 29,
   "id": "995d1eb1",
   "metadata": {},
   "outputs": [
    {
     "data": {
      "text/plain": [
       "False"
      ]
     },
     "execution_count": 29,
     "metadata": {},
     "output_type": "execute_result"
    }
   ],
   "source": [
    "10<170<99"
   ]
  },
  {
   "cell_type": "code",
   "execution_count": 32,
   "id": "3a3c4953",
   "metadata": {},
   "outputs": [
    {
     "name": "stdout",
     "output_type": "stream",
     "text": [
      "enter a number:99\n",
      "it is a pos num\n"
     ]
    }
   ],
   "source": [
    "# WAP ask the user enter a number\n",
    "# if the number >=0  print it is a postive number\n",
    "# otherwise print it is a negtaive number\n",
    "\n",
    "num=eval(input(\"enter a number:\"))\n",
    "if num>=0:\n",
    "    print(\"it is a pos num\")\n",
    "else:\n",
    "    print(\"it is a neg num\")"
   ]
  },
  {
   "cell_type": "code",
   "execution_count": null,
   "id": "8e38dce1",
   "metadata": {},
   "outputs": [],
   "source": [
    "# con-1: >0  ======== pos    if <cond>:\n",
    "# con-2: <0 ======== neg     elif <con>\n",
    "# con-3: =0 ======= zero     else:\n",
    "\n",
    "# two conditions:  if -else\n",
    "# > two condi:     if-elif-else"
   ]
  },
  {
   "cell_type": "code",
   "execution_count": 36,
   "id": "025628e4",
   "metadata": {},
   "outputs": [
    {
     "name": "stdout",
     "output_type": "stream",
     "text": [
      "enter a number: -10\n",
      "The given number -10 is negative\n"
     ]
    }
   ],
   "source": [
    "num2=eval(input(\"enter a number: \"))\n",
    "if num2>0:  # fail\n",
    "    print(\"The given number {} is positive\".format(num2))\n",
    "elif num2<0: # true  : stop\n",
    "    print(\"The given number {} is negative\".format(num2))\n",
    "else:       # else will not execute\n",
    "    print(\"The given number {} is zero\".format(num2))\n"
   ]
  },
  {
   "cell_type": "code",
   "execution_count": null,
   "id": "8c1632a0",
   "metadata": {},
   "outputs": [],
   "source": [
    "#WAP ask the user enter percentage of marks\n",
    "# if per>90 pring A \n",
    "# if per between 70 to 90  print B\n",
    "# if per between 50 to 70  print C\n",
    "# otherwise print D\n",
    "# if -elif-elif-else"
   ]
  },
  {
   "cell_type": "code",
   "execution_count": 40,
   "id": "01d2e8b1",
   "metadata": {},
   "outputs": [
    {
     "name": "stdout",
     "output_type": "stream",
     "text": [
      "enter your percentage: 45\n",
      "D Grade\n"
     ]
    }
   ],
   "source": [
    "per=eval(input(\"enter your percentage: \"))\n",
    "if per>=90:\n",
    "    print(\"A Grade\")\n",
    "elif 70<per<90:\n",
    "    print(\"B Grade\")\n",
    "elif 50<per<70:\n",
    "    print(\"C Grade\")    \n",
    "else:\n",
    "    print(\"D Grade\")\n"
   ]
  },
  {
   "cell_type": "code",
   "execution_count": 43,
   "id": "bad5e89b",
   "metadata": {},
   "outputs": [
    {
     "name": "stdout",
     "output_type": "stream",
     "text": [
      "enter your percentage: 49\n",
      "D Grade\n"
     ]
    }
   ],
   "source": [
    "per=eval(input(\"enter your percentage: \"))\n",
    "if per>=90:                \n",
    "    print(\"A Grade\")       \n",
    "elif per>=70:              # 82>70: T       \n",
    "    print(\"B Grade\")       # stop\n",
    "elif per>=50:             \n",
    "    print(\"C Grade\")    \n",
    "else:\n",
    "    print(\"D Grade\")\n"
   ]
  },
  {
   "cell_type": "code",
   "execution_count": null,
   "id": "d9d64680",
   "metadata": {},
   "outputs": [],
   "source": [
    "# wap ask the user  enter age\n",
    "# if age > 60  print (SC)\n",
    "# if age between 45 to 60 ( aged)\n",
    "# if age between 30 to 45 (MA)\n",
    "# if age between 20 to 30 (young)\n",
    "# if age between 13 to 20 (teenage)\n",
    "# otherwise child\n",
    "\n",
    "# if-elif-elif-elif-elif-else"
   ]
  },
  {
   "cell_type": "code",
   "execution_count": 44,
   "id": "53ba1b98",
   "metadata": {},
   "outputs": [
    {
     "name": "stdout",
     "output_type": "stream",
     "text": [
      "enter your age: 150\n",
      "SC\n"
     ]
    }
   ],
   "source": [
    "age=eval(input(\"enter your age: \"))\n",
    "if age>=100:\n",
    "    print(\"Not possible\")\n",
    "elif age>=60:\n",
    "    print(\"sc\")\n",
    "elif age>=45:\n",
    "    print(\"Aged\")    \n",
    "elif age>=30:\n",
    "    print(\"Middle age\")\n",
    "elif age>=20:\n",
    "    print(\"Young\")\n",
    "elif age>=13:\n",
    "    print(\"Teenage\")    \n",
    "else:\n",
    "    print(\"child\")"
   ]
  },
  {
   "cell_type": "code",
   "execution_count": 45,
   "id": "0a763aff",
   "metadata": {},
   "outputs": [
    {
     "name": "stdout",
     "output_type": "stream",
     "text": [
      "enter num1:10\n",
      "enter num2:0\n"
     ]
    },
    {
     "ename": "ZeroDivisionError",
     "evalue": "division by zero",
     "output_type": "error",
     "traceback": [
      "\u001b[1;31m---------------------------------------------------------------------------\u001b[0m",
      "\u001b[1;31mZeroDivisionError\u001b[0m                         Traceback (most recent call last)",
      "Cell \u001b[1;32mIn[45], line 3\u001b[0m\n\u001b[0;32m      1\u001b[0m num1\u001b[38;5;241m=\u001b[39m\u001b[38;5;28meval\u001b[39m(\u001b[38;5;28minput\u001b[39m(\u001b[38;5;124m'\u001b[39m\u001b[38;5;124menter num1:\u001b[39m\u001b[38;5;124m'\u001b[39m))\n\u001b[0;32m      2\u001b[0m num2\u001b[38;5;241m=\u001b[39m\u001b[38;5;28meval\u001b[39m(\u001b[38;5;28minput\u001b[39m(\u001b[38;5;124m\"\u001b[39m\u001b[38;5;124menter num2:\u001b[39m\u001b[38;5;124m\"\u001b[39m))\n\u001b[1;32m----> 3\u001b[0m num1\u001b[38;5;241m/\u001b[39mnum2\n",
      "\u001b[1;31mZeroDivisionError\u001b[0m: division by zero"
     ]
    }
   ],
   "source": [
    "num1=eval(input('enter num1:'))\n",
    "num2=eval(input(\"enter num2:\"))\n",
    "num1/num2"
   ]
  },
  {
   "cell_type": "code",
   "execution_count": 49,
   "id": "b520a7dd",
   "metadata": {},
   "outputs": [
    {
     "name": "stdout",
     "output_type": "stream",
     "text": [
      "enter num1:10\n",
      "enter num2:20\n",
      "0.5\n"
     ]
    }
   ],
   "source": [
    "try:\n",
    "    num1=eval(input('enter num1:'))  # 1 good\n",
    "    num2=eval(input(\"enter num2:\"))  # 2 good\n",
    "    print(num1/num2) # 3 good\n",
    "    \n",
    "except Exception as e:\n",
    "    print('hello')\n",
    "    print(e)              # error will capture here"
   ]
  },
  {
   "cell_type": "code",
   "execution_count": null,
   "id": "75a0cc4a",
   "metadata": {},
   "outputs": [],
   "source": []
  }
 ],
 "metadata": {
  "kernelspec": {
   "display_name": "Python 3 (ipykernel)",
   "language": "python",
   "name": "python3"
  },
  "language_info": {
   "codemirror_mode": {
    "name": "ipython",
    "version": 3
   },
   "file_extension": ".py",
   "mimetype": "text/x-python",
   "name": "python",
   "nbconvert_exporter": "python",
   "pygments_lexer": "ipython3",
   "version": "3.10.9"
  }
 },
 "nbformat": 4,
 "nbformat_minor": 5
}
